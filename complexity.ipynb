{
 "cells": [
  {
   "cell_type": "code",
   "execution_count": 17,
   "metadata": {},
   "outputs": [
    {
     "name": "stdout",
     "output_type": "stream",
     "text": [
      "The line_profiler extension is already loaded. To reload it, use:\n",
      "  %reload_ext line_profiler\n"
     ]
    }
   ],
   "source": [
    "# !pip install line_profiler\n",
    "%load_ext line_profiler"
   ]
  },
  {
   "cell_type": "code",
   "execution_count": 18,
   "metadata": {},
   "outputs": [],
   "source": [
    "def naive_fib(n: int):\n",
    "    if n<=1:\n",
    "        return n  #fib(0)=0, fib(1)=1\n",
    "    else:\n",
    "        return naive_fib(n-1)+naive_fib(n-2)\n"
   ]
  },
  {
   "cell_type": "code",
   "execution_count": 19,
   "metadata": {},
   "outputs": [
    {
     "name": "stdout",
     "output_type": "stream",
     "text": [
      "Timer unit: 1e-09 s\n",
      "\n",
      "Total time: 3.1184e-05 s\n",
      "File: /tmp/ipykernel_31922/1540448374.py\n",
      "Function: naive_fib at line 1\n",
      "\n",
      "Line #      Hits         Time  Per Hit   % Time  Line Contents\n",
      "==============================================================\n",
      "     1                                           def naive_fib(n: int):\n",
      "     2        89       9657.0    108.5     31.0      if n<=1:\n",
      "     3        89       8333.0     93.6     26.7          return n  #fib(0)=0, fib(1)=1\n",
      "     4                                               else:\n",
      "     5        88      13194.0    149.9     42.3          return naive_fib(n-1)+naive_fib(n-2)"
     ]
    }
   ],
   "source": [
    "%lprun -f naive_fib naive_fib(10)\n"
   ]
  },
  {
   "cell_type": "code",
   "execution_count": 20,
   "metadata": {},
   "outputs": [
    {
     "name": "stdout",
     "output_type": "stream",
     "text": [
      "Timer unit: 1e-09 s\n",
      "\n",
      "Total time: 0.00377604 s\n",
      "File: /tmp/ipykernel_31922/1540448374.py\n",
      "Function: naive_fib at line 1\n",
      "\n",
      "Line #      Hits         Time  Per Hit   % Time  Line Contents\n",
      "==============================================================\n",
      "     1                                           def naive_fib(n: int):\n",
      "     2     10946    1198656.0    109.5     31.7      if n<=1:\n",
      "     3     10946    1047136.0     95.7     27.7          return n  #fib(0)=0, fib(1)=1\n",
      "     4                                               else:\n",
      "     5     10945    1530247.0    139.8     40.5          return naive_fib(n-1)+naive_fib(n-2)"
     ]
    }
   ],
   "source": [
    "%lprun -f naive_fib naive_fib(20)\n"
   ]
  },
  {
   "cell_type": "code",
   "execution_count": 21,
   "metadata": {},
   "outputs": [
    {
     "name": "stdout",
     "output_type": "stream",
     "text": [
      "Timer unit: 1e-09 s\n",
      "\n",
      "Total time: 0.468973 s\n",
      "File: /tmp/ipykernel_31922/1540448374.py\n",
      "Function: naive_fib at line 1\n",
      "\n",
      "Line #      Hits         Time  Per Hit   % Time  Line Contents\n",
      "==============================================================\n",
      "     1                                           def naive_fib(n: int):\n",
      "     2   1346269  149415412.0    111.0     31.9      if n<=1:\n",
      "     3   1346269  131741758.0     97.9     28.1          return n  #fib(0)=0, fib(1)=1\n",
      "     4                                               else:\n",
      "     5   1346268  187815568.0    139.5     40.0          return naive_fib(n-1)+naive_fib(n-2)"
     ]
    }
   ],
   "source": [
    "\n",
    "%lprun -f naive_fib naive_fib(30)"
   ]
  },
  {
   "cell_type": "code",
   "execution_count": null,
   "metadata": {},
   "outputs": [],
   "source": []
  },
  {
   "cell_type": "code",
   "execution_count": null,
   "metadata": {},
   "outputs": [],
   "source": []
  },
  {
   "cell_type": "code",
   "execution_count": 22,
   "metadata": {},
   "outputs": [],
   "source": [
    "# key concept: iterative\n",
    "def fibonacci_iterative(n):\n",
    "    if n <= 1:\n",
    "        return n\n",
    "    else:\n",
    "        prev1 = 0\n",
    "        prev2 = 1\n",
    "        for i in range(2, n+1):\n",
    "            current = prev1 + prev2\n",
    "            prev1 = prev2\n",
    "            prev2 = current\n",
    "        return current\n",
    "assert fibonacci_iterative(1)==1\n",
    "assert fibonacci_iterative(10)==55"
   ]
  },
  {
   "cell_type": "code",
   "execution_count": 23,
   "metadata": {},
   "outputs": [
    {
     "name": "stdout",
     "output_type": "stream",
     "text": [
      "Timer unit: 1e-09 s\n",
      "\n",
      "Total time: 6.557e-06 s\n",
      "File: /tmp/ipykernel_31922/3409039728.py\n",
      "Function: fibonacci_iterative at line 2\n",
      "\n",
      "Line #      Hits         Time  Per Hit   % Time  Line Contents\n",
      "==============================================================\n",
      "     2                                           def fibonacci_iterative(n):\n",
      "     3         1        708.0    708.0     10.8      if n <= 1:\n",
      "     4                                                   return n\n",
      "     5                                               else:\n",
      "     6         1        163.0    163.0      2.5          prev1 = 0\n",
      "     7         1        121.0    121.0      1.8          prev2 = 1\n",
      "     8         9       2282.0    253.6     34.8          for i in range(2, n+1):\n",
      "     9         9       1233.0    137.0     18.8              current = prev1 + prev2\n",
      "    10         9        930.0    103.3     14.2              prev1 = prev2\n",
      "    11         9        962.0    106.9     14.7              prev2 = current\n",
      "    12         1        158.0    158.0      2.4          return current"
     ]
    }
   ],
   "source": [
    "%lprun -f fibonacci_iterative fibonacci_iterative(10)\n"
   ]
  },
  {
   "cell_type": "code",
   "execution_count": 24,
   "metadata": {},
   "outputs": [
    {
     "name": "stdout",
     "output_type": "stream",
     "text": [
      "Timer unit: 1e-09 s\n",
      "\n",
      "Total time: 1.0856e-05 s\n",
      "File: /tmp/ipykernel_31922/3409039728.py\n",
      "Function: fibonacci_iterative at line 2\n",
      "\n",
      "Line #      Hits         Time  Per Hit   % Time  Line Contents\n",
      "==============================================================\n",
      "     2                                           def fibonacci_iterative(n):\n",
      "     3         1        753.0    753.0      6.9      if n <= 1:\n",
      "     4                                                   return n\n",
      "     5                                               else:\n",
      "     6         1        171.0    171.0      1.6          prev1 = 0\n",
      "     7         1        127.0    127.0      1.2          prev2 = 1\n",
      "     8        19       3313.0    174.4     30.5          for i in range(2, n+1):\n",
      "     9        19       2450.0    128.9     22.6              current = prev1 + prev2\n",
      "    10        19       1934.0    101.8     17.8              prev1 = prev2\n",
      "    11        19       1961.0    103.2     18.1              prev2 = current\n",
      "    12         1        147.0    147.0      1.4          return current"
     ]
    }
   ],
   "source": [
    "%lprun -f fibonacci_iterative fibonacci_iterative(20)\n"
   ]
  },
  {
   "cell_type": "code",
   "execution_count": 25,
   "metadata": {},
   "outputs": [
    {
     "name": "stdout",
     "output_type": "stream",
     "text": [
      "Timer unit: 1e-09 s\n",
      "\n",
      "Total time: 1.5448e-05 s\n",
      "File: /tmp/ipykernel_31922/3409039728.py\n",
      "Function: fibonacci_iterative at line 2\n",
      "\n",
      "Line #      Hits         Time  Per Hit   % Time  Line Contents\n",
      "==============================================================\n",
      "     2                                           def fibonacci_iterative(n):\n",
      "     3         1        596.0    596.0      3.9      if n <= 1:\n",
      "     4                                                   return n\n",
      "     5                                               else:\n",
      "     6         1        193.0    193.0      1.2          prev1 = 0\n",
      "     7         1        119.0    119.0      0.8          prev2 = 1\n",
      "     8        29       4772.0    164.6     30.9          for i in range(2, n+1):\n",
      "     9        29       3729.0    128.6     24.1              current = prev1 + prev2\n",
      "    10        29       2982.0    102.8     19.3              prev1 = prev2\n",
      "    11        29       2923.0    100.8     18.9              prev2 = current\n",
      "    12         1        134.0    134.0      0.9          return current"
     ]
    }
   ],
   "source": [
    "%lprun -f fibonacci_iterative fibonacci_iterative(30)"
   ]
  },
  {
   "cell_type": "code",
   "execution_count": null,
   "metadata": {},
   "outputs": [],
   "source": []
  },
  {
   "cell_type": "code",
   "execution_count": 26,
   "metadata": {},
   "outputs": [],
   "source": [
    "def naive_search(lst, target):\n",
    "    for elem in lst:\n",
    "        if elem == target:\n",
    "            return True\n",
    "    return False\n",
    "\n",
    "def binary_search(arr, target):\n",
    "    left = 0\n",
    "    right = len(arr) - 1\n",
    "\n",
    "    while left <= right:\n",
    "        mid = (left + right) // 2\n",
    "        if arr[mid] == target:\n",
    "            return True\n",
    "        elif arr[mid] < target:\n",
    "            left = mid + 1\n",
    "        else:\n",
    "            right = mid - 1\n",
    "\n",
    "    return False\n"
   ]
  },
  {
   "cell_type": "code",
   "execution_count": 27,
   "metadata": {},
   "outputs": [],
   "source": [
    "lst = [n for n in range(0, 1000)]\n"
   ]
  },
  {
   "cell_type": "code",
   "execution_count": 28,
   "metadata": {},
   "outputs": [
    {
     "name": "stdout",
     "output_type": "stream",
     "text": [
      "Timer unit: 1e-09 s\n",
      "\n",
      "Total time: 9.129e-06 s\n",
      "File: /tmp/ipykernel_31922/2397617050.py\n",
      "Function: binary_search at line 7\n",
      "\n",
      "Line #      Hits         Time  Per Hit   % Time  Line Contents\n",
      "==============================================================\n",
      "     7                                           def binary_search(arr, target):\n",
      "     8         1        535.0    535.0      5.9      left = 0\n",
      "     9         1        517.0    517.0      5.7      right = len(arr) - 1\n",
      "    10                                           \n",
      "    11         9       1929.0    214.3     21.1      while left <= right:\n",
      "    12         9       1661.0    184.6     18.2          mid = (left + right) // 2\n",
      "    13         9       1906.0    211.8     20.9          if arr[mid] == target:\n",
      "    14                                                       return True\n",
      "    15         9       1180.0    131.1     12.9          elif arr[mid] < target:\n",
      "    16                                                       left = mid + 1\n",
      "    17                                                   else:\n",
      "    18         9       1247.0    138.6     13.7              right = mid - 1\n",
      "    19                                           \n",
      "    20         1        154.0    154.0      1.7      return False"
     ]
    }
   ],
   "source": [
    "%lprun -f binary_search binary_search(lst, -1)"
   ]
  },
  {
   "cell_type": "code",
   "execution_count": 29,
   "metadata": {},
   "outputs": [
    {
     "name": "stdout",
     "output_type": "stream",
     "text": [
      "Timer unit: 1e-09 s\n",
      "\n",
      "Total time: 0.000205593 s\n",
      "File: /tmp/ipykernel_31922/2397617050.py\n",
      "Function: naive_search at line 1\n",
      "\n",
      "Line #      Hits         Time  Per Hit   % Time  Line Contents\n",
      "==============================================================\n",
      "     1                                           def naive_search(lst, target):\n",
      "     2      1000     101496.0    101.5     49.4      for elem in lst:\n",
      "     3      1000     103935.0    103.9     50.6          if elem == target:\n",
      "     4                                                       return True\n",
      "     5         1        162.0    162.0      0.1      return False"
     ]
    }
   ],
   "source": [
    "%lprun -f naive_search naive_search(lst, -1)"
   ]
  },
  {
   "cell_type": "code",
   "execution_count": 30,
   "metadata": {},
   "outputs": [
    {
     "name": "stdout",
     "output_type": "stream",
     "text": [
      "Timer unit: 1e-09 s\n",
      "\n",
      "Total time: 3.547e-06 s\n",
      "File: /tmp/ipykernel_31922/2397617050.py\n",
      "Function: naive_search at line 1\n",
      "\n",
      "Line #      Hits         Time  Per Hit   % Time  Line Contents\n",
      "==============================================================\n",
      "     1                                           def naive_search(lst, target):\n",
      "     2        11       1898.0    172.5     53.5      for elem in lst:\n",
      "     3        10       1444.0    144.4     40.7          if elem == target:\n",
      "     4         1        205.0    205.0      5.8              return True\n",
      "     5                                               return False"
     ]
    }
   ],
   "source": [
    "%lprun -f naive_search naive_search(lst, 10)"
   ]
  },
  {
   "cell_type": "code",
   "execution_count": null,
   "metadata": {},
   "outputs": [],
   "source": []
  }
 ],
 "metadata": {
  "kernelspec": {
   "display_name": "py311",
   "language": "python",
   "name": "python3"
  },
  "language_info": {
   "codemirror_mode": {
    "name": "ipython",
    "version": 3
   },
   "file_extension": ".py",
   "mimetype": "text/x-python",
   "name": "python",
   "nbconvert_exporter": "python",
   "pygments_lexer": "ipython3",
   "version": "3.8.10"
  },
  "orig_nbformat": 4
 },
 "nbformat": 4,
 "nbformat_minor": 2
}
